{
  "nbformat": 4,
  "nbformat_minor": 0,
  "metadata": {
    "colab": {
      "provenance": []
    },
    "kernelspec": {
      "name": "python3",
      "display_name": "Python 3"
    },
    "language_info": {
      "name": "python"
    }
  },
  "cells": [
    {
      "cell_type": "markdown",
      "source": [
        "# python first assignment\n",
        "\n",
        "### 1.in the below elements which of them are values or an expressino? ex:- values can be int and string and expression can be mathimatical operations.\n",
        "`*`\n",
        "`\"hellow\"`\n",
        "`-87.8`\n",
        "`-`\n",
        "`/`\n",
        "`+`"
      ],
      "metadata": {
        "id": "Dlg7BekcxNs2"
      }
    },
    {
      "cell_type": "markdown",
      "source": [
        "### ans:-\n",
        "### 1. values:- \"hellow\", -87.8\n",
        "### 2. expression:- *, -, /, +"
      ],
      "metadata": {
        "id": "aBtjE8RMydNX"
      }
    },
    {
      "cell_type": "markdown",
      "source": [
        "### 2. what is the difference between string and variable?\n",
        "\n",
        "### Ans:-\n",
        "###STRING used to deffines the type of data. And string always given inside the dubble quate (\"\"), or single quate ('') Ex:-"
      ],
      "metadata": {
        "id": "nLy2dCsZHHAP"
      }
    },
    {
      "cell_type": "code",
      "execution_count": 1,
      "metadata": {
        "id": "vXp9GsgN-Rtn"
      },
      "outputs": [],
      "source": [
        "a=\"sun\""
      ]
    },
    {
      "cell_type": "code",
      "source": [
        "a"
      ],
      "metadata": {
        "colab": {
          "base_uri": "https://localhost:8080/",
          "height": 36
        },
        "id": "Hmz6n-dpA-RG",
        "outputId": "2fc5dc0f-eabc-4d42-e262-cb9b95944081"
      },
      "execution_count": null,
      "outputs": [
        {
          "output_type": "execute_result",
          "data": {
            "text/plain": [
              "'sun'"
            ],
            "application/vnd.google.colaboratory.intrinsic+json": {
              "type": "string"
            }
          },
          "metadata": {},
          "execution_count": 2
        }
      ]
    },
    {
      "cell_type": "code",
      "source": [
        "type(a)# Here a stors string data type"
      ],
      "metadata": {
        "colab": {
          "base_uri": "https://localhost:8080/"
        },
        "id": "Ur2Ux5XzA-7O",
        "outputId": "5bcee393-a7f3-4298-9068-4c17ee4ae139"
      },
      "execution_count": null,
      "outputs": [
        {
          "output_type": "execute_result",
          "data": {
            "text/plain": [
              "str"
            ]
          },
          "metadata": {},
          "execution_count": 3
        }
      ]
    },
    {
      "cell_type": "markdown",
      "source": [
        "### VARIABLES are used to store values(string,float, int , list,tuples,dic,even some time Lambda functions) in specific memory location .Ex:-"
      ],
      "metadata": {
        "id": "HQUcb0qJG-ue"
      }
    },
    {
      "cell_type": "code",
      "source": [
        "a =\"sun\"# Here a is a variable"
      ],
      "metadata": {
        "id": "Pu3qKBdzE812"
      },
      "execution_count": null,
      "outputs": []
    },
    {
      "cell_type": "markdown",
      "source": [
        "### 3. Describe three diffeerent data type.\n",
        "### Ans:- Three different are;-\n",
        "### String\n",
        "### intiger(int), float\n",
        "### boolian\n"
      ],
      "metadata": {
        "id": "e-IPtbN6GXcH"
      }
    },
    {
      "cell_type": "markdown",
      "source": [
        "### 4. what is an expressions made up of? what do all expressions do?\n",
        "### Ans:- Expressions are the combination of different type of operators.In expression we do different type of operation and produce some other value."
      ],
      "metadata": {
        "id": "7uWE0341F_Si"
      }
    },
    {
      "cell_type": "markdown",
      "source": [
        "### 5. This assignment statements, like spam=10? what is the difference between an expression and a statement?\n",
        "### ANS:-\n",
        "### If a variable has a specific constent value is called expression. spame=10 is an expression\n",
        "### every line of a code is a statement. But spame=10 is also a statement becouse its a peace of code Ex:-"
      ],
      "metadata": {
        "id": "zmq442nGc5Hb"
      }
    },
    {
      "cell_type": "code",
      "source": [
        "spame=10       # its a expression also a statement\n",
        "print(spame)   # but its a statement"
      ],
      "metadata": {
        "colab": {
          "base_uri": "https://localhost:8080/"
        },
        "id": "hWtczJaqMs_k",
        "outputId": "4f4c15b0-8e99-416f-ea0a-ee4e7ee60016"
      },
      "execution_count": null,
      "outputs": [
        {
          "output_type": "stream",
          "name": "stdout",
          "text": [
            "10\n"
          ]
        }
      ]
    },
    {
      "cell_type": "markdown",
      "source": [
        "### 6. After running the following code, what dose the variable bacon contain?\n",
        "### bacon=22\n",
        "### bacon+1"
      ],
      "metadata": {
        "id": "Zd1U8l4CdcQo"
      }
    },
    {
      "cell_type": "code",
      "source": [
        "# ANS\n",
        "bacon=22\n",
        "bacon+1"
      ],
      "metadata": {
        "id": "Lt5nB5TQP_oR"
      },
      "execution_count": null,
      "outputs": []
    },
    {
      "cell_type": "code",
      "source": [
        "print(bacon)# bacon content value 22"
      ],
      "metadata": {
        "colab": {
          "base_uri": "https://localhost:8080/"
        },
        "id": "82PqRpQrQhY5",
        "outputId": "d052ae64-4bde-4199-e160-69a44cf29218"
      },
      "execution_count": null,
      "outputs": [
        {
          "output_type": "stream",
          "name": "stdout",
          "text": [
            "22\n"
          ]
        }
      ]
    },
    {
      "cell_type": "markdown",
      "source": [
        "### 7. what should the values of the following two terms be?"
      ],
      "metadata": {
        "id": "0OP4X8_SeE8a"
      }
    },
    {
      "cell_type": "code",
      "source": [
        "\"spam\"+\"spamspam\""
      ],
      "metadata": {
        "colab": {
          "base_uri": "https://localhost:8080/",
          "height": 36
        },
        "id": "QlZaF9_cQrpJ",
        "outputId": "5e5cb60e-1921-46dd-e6d3-0f16e7e78788"
      },
      "execution_count": null,
      "outputs": [
        {
          "output_type": "execute_result",
          "data": {
            "text/plain": [
              "'spamspamspam'"
            ],
            "application/vnd.google.colaboratory.intrinsic+json": {
              "type": "string"
            }
          },
          "metadata": {},
          "execution_count": 11
        }
      ]
    },
    {
      "cell_type": "code",
      "source": [
        "\"spam\"*3# ANS The following two terms has the same values"
      ],
      "metadata": {
        "colab": {
          "base_uri": "https://localhost:8080/",
          "height": 36
        },
        "id": "Tgm0rhtoRD7h",
        "outputId": "41eda29d-9dcb-40fa-8181-2f4e6ed675fc"
      },
      "execution_count": null,
      "outputs": [
        {
          "output_type": "execute_result",
          "data": {
            "text/plain": [
              "'spamspamspam'"
            ],
            "application/vnd.google.colaboratory.intrinsic+json": {
              "type": "string"
            }
          },
          "metadata": {},
          "execution_count": 12
        }
      ]
    },
    {
      "cell_type": "markdown",
      "source": [
        "### 8. Why is eggs a valid variable name while 100 is invalade"
      ],
      "metadata": {
        "id": "NFCsFRVAddZw"
      }
    },
    {
      "cell_type": "markdown",
      "source": [
        "### ans:- becouse in python a variable name can be start with \"alphabets\" and \"_\" but should not be started with numbers. thats why \"eegs\" can be a variable but \"100\" not.\n",
        "ex:-"
      ],
      "metadata": {
        "id": "6GTPjmxr1_SD"
      }
    },
    {
      "cell_type": "code",
      "source": [
        "egge=\"hellow\""
      ],
      "metadata": {
        "id": "iySTWeAi23WQ"
      },
      "execution_count": 2,
      "outputs": []
    },
    {
      "cell_type": "code",
      "source": [
        "print(\"eggs\")"
      ],
      "metadata": {
        "colab": {
          "base_uri": "https://localhost:8080/"
        },
        "id": "1DE5L0os28ws",
        "outputId": "0843d4d2-d7e0-4ab4-94e2-25ce8584cf0a"
      },
      "execution_count": 3,
      "outputs": [
        {
          "output_type": "stream",
          "name": "stdout",
          "text": [
            "eggs\n"
          ]
        }
      ]
    },
    {
      "cell_type": "code",
      "source": [
        "100=\"hellow world\""
      ],
      "metadata": {
        "colab": {
          "base_uri": "https://localhost:8080/",
          "height": 130
        },
        "id": "t_Y-Di6V3HkI",
        "outputId": "5fb4eb10-60e0-4d18-f32c-f8480f987b96"
      },
      "execution_count": 4,
      "outputs": [
        {
          "output_type": "error",
          "ename": "SyntaxError",
          "evalue": "ignored",
          "traceback": [
            "\u001b[0;36m  File \u001b[0;32m\"<ipython-input-4-6a7d1f3d4ca0>\"\u001b[0;36m, line \u001b[0;32m1\u001b[0m\n\u001b[0;31m    100=\"hellow world\"\u001b[0m\n\u001b[0m    ^\u001b[0m\n\u001b[0;31mSyntaxError\u001b[0m\u001b[0;31m:\u001b[0m cannot assign to literal here. Maybe you meant '==' instead of '='?\n"
          ]
        }
      ]
    },
    {
      "cell_type": "markdown",
      "source": [
        "### 9. what tree functions can be used to get a intiger, floting point no or string version of a value?\n"
      ],
      "metadata": {
        "id": "0tan1gChgFEh"
      }
    },
    {
      "cell_type": "code",
      "source": [
        "# ANS Ex:-\n",
        "a=66\n",
        "type(a)# here / not has any specific type"
      ],
      "metadata": {
        "colab": {
          "base_uri": "https://localhost:8080/"
        },
        "id": "e6UGn0-_SETW",
        "outputId": "a3bcfee0-3933-42fe-9793-112a1c331d8e"
      },
      "execution_count": null,
      "outputs": [
        {
          "output_type": "execute_result",
          "data": {
            "text/plain": [
              "int"
            ]
          },
          "metadata": {},
          "execution_count": 33
        }
      ]
    },
    {
      "cell_type": "code",
      "source": [
        "a=str(\"55\")\n",
        "type(a)\n"
      ],
      "metadata": {
        "colab": {
          "base_uri": "https://localhost:8080/"
        },
        "id": "EYDXx9hyew5-",
        "outputId": "7bfe677c-12f1-4cc5-99c7-fc007a141822"
      },
      "execution_count": null,
      "outputs": [
        {
          "output_type": "execute_result",
          "data": {
            "text/plain": [
              "str"
            ]
          },
          "metadata": {},
          "execution_count": 34
        }
      ]
    },
    {
      "cell_type": "markdown",
      "source": [
        "### 10. why dose this expresioncaues an error? how can you fix it?"
      ],
      "metadata": {
        "id": "ZE4LSPJpzWMF"
      }
    },
    {
      "cell_type": "code",
      "source": [
        "\"i have eaten\"+99+\"burritos\""
      ],
      "metadata": {
        "colab": {
          "base_uri": "https://localhost:8080/",
          "height": 182
        },
        "id": "XwM_DrSxSuV3",
        "outputId": "22f102c2-09ce-4875-a8b8-f16dd74ef9d2"
      },
      "execution_count": null,
      "outputs": [
        {
          "output_type": "error",
          "ename": "TypeError",
          "evalue": "ignored",
          "traceback": [
            "\u001b[0;31m---------------------------------------------------------------------------\u001b[0m",
            "\u001b[0;31mTypeError\u001b[0m                                 Traceback (most recent call last)",
            "\u001b[0;32m<ipython-input-15-524484aa0477>\u001b[0m in \u001b[0;36m<cell line: 2>\u001b[0;34m()\u001b[0m\n\u001b[1;32m      1\u001b[0m \u001b[0;31m#10. why dose this expresioncaues an error? how can you fix it?\u001b[0m\u001b[0;34m\u001b[0m\u001b[0;34m\u001b[0m\u001b[0m\n\u001b[0;32m----> 2\u001b[0;31m \u001b[0;34m\"i have eaten\"\u001b[0m\u001b[0;34m+\u001b[0m\u001b[0;36m99\u001b[0m\u001b[0;34m+\u001b[0m\u001b[0;34m\"burritos\"\u001b[0m\u001b[0;34m\u001b[0m\u001b[0;34m\u001b[0m\u001b[0m\n\u001b[0m",
            "\u001b[0;31mTypeError\u001b[0m: can only concatenate str (not \"int\") to str"
          ]
        }
      ]
    },
    {
      "cell_type": "markdown",
      "source": [
        "### ans:-"
      ],
      "metadata": {
        "id": "SH8NwuIyznZS"
      }
    },
    {
      "cell_type": "code",
      "source": [
        "# fix it\n",
        "# ANS\n",
        "\"i have eaten \"+str(99)+\" burritos.\""
      ],
      "metadata": {
        "colab": {
          "base_uri": "https://localhost:8080/",
          "height": 36
        },
        "id": "G7z5XxjeUcJG",
        "outputId": "c324e9c5-1e93-4bed-a45b-9f5d7510b27b"
      },
      "execution_count": null,
      "outputs": [
        {
          "output_type": "execute_result",
          "data": {
            "text/plain": [
              "'i have eaten 99 burritos.'"
            ],
            "application/vnd.google.colaboratory.intrinsic+json": {
              "type": "string"
            }
          },
          "metadata": {},
          "execution_count": 20
        }
      ]
    },
    {
      "cell_type": "code",
      "source": [],
      "metadata": {
        "id": "DSx0J2lEU4Ex"
      },
      "execution_count": null,
      "outputs": []
    }
  ]
}